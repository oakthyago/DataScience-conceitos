{
 "cells": [
  {
   "cell_type": "markdown",
   "id": "5fda6316",
   "metadata": {},
   "source": [
    "# Introdução\n",
    "\n",
    "Este notebook foi criado para armazenar as informações mais importantes do curso"
   ]
  },
  {
   "cell_type": "markdown",
   "id": "3f34ab8c",
   "metadata": {},
   "source": [
    "##### Projeto Call 911\n",
    "Este projeto foi baseado em um dataframe do kaggle onde os operadores registravam as ligações de emergência para o 911"
   ]
  },
  {
   "cell_type": "markdown",
   "id": "bf43c97c",
   "metadata": {},
   "source": [
    "##### importes básicos"
   ]
  },
  {
   "cell_type": "code",
   "execution_count": 3,
   "id": "9dc0cf82",
   "metadata": {},
   "outputs": [],
   "source": [
    "import numpy as np\n",
    "import pandas as pd"
   ]
  },
  {
   "cell_type": "markdown",
   "id": "5d966ae4",
   "metadata": {},
   "source": [
    "##### matplot lib para funcionar no jupter"
   ]
  },
  {
   "cell_type": "code",
   "execution_count": 6,
   "id": "99a2d26b",
   "metadata": {},
   "outputs": [],
   "source": [
    "import matplotlib.pyplot as plt\n",
    "import seaborn as sns\n",
    "sns.set_style('whitegrid')\n",
    "%matplotlib inline"
   ]
  },
  {
   "cell_type": "code",
   "execution_count": null,
   "id": "beea5f51",
   "metadata": {},
   "outputs": [],
   "source": [
    "df = pd.read_csv('911.csv')"
   ]
  },
  {
   "cell_type": "code",
   "execution_count": null,
   "id": "eded961b",
   "metadata": {},
   "outputs": [],
   "source": []
  }
 ],
 "metadata": {
  "kernelspec": {
   "display_name": "Python 3",
   "language": "python",
   "name": "python3"
  },
  "language_info": {
   "codemirror_mode": {
    "name": "ipython",
    "version": 3
   },
   "file_extension": ".py",
   "mimetype": "text/x-python",
   "name": "python",
   "nbconvert_exporter": "python",
   "pygments_lexer": "ipython3",
   "version": "3.8.8"
  }
 },
 "nbformat": 4,
 "nbformat_minor": 5
}
